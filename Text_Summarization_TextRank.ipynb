{
  "nbformat": 4,
  "nbformat_minor": 0,
  "metadata": {
    "colab": {
      "provenance": [],
      "authorship_tag": "ABX9TyPx4i/kVac97O+ggkr7xR06",
      "include_colab_link": true
    },
    "kernelspec": {
      "name": "python3",
      "display_name": "Python 3"
    },
    "language_info": {
      "name": "python"
    }
  },
  "cells": [
    {
      "cell_type": "markdown",
      "metadata": {
        "id": "view-in-github",
        "colab_type": "text"
      },
      "source": [
        "<a href=\"https://colab.research.google.com/github/fahmi54321/nlp_text-summarization-TextRank/blob/main/Text_Summarization_TextRank.ipynb\" target=\"_parent\"><img src=\"https://colab.research.google.com/assets/colab-badge.svg\" alt=\"Open In Colab\"/></a>"
      ]
    },
    {
      "cell_type": "code",
      "execution_count": 31,
      "metadata": {
        "id": "ImoVuN2sXues"
      },
      "outputs": [],
      "source": [
        "import pandas as pd\n",
        "import numpy as np\n",
        "import textwrap\n",
        "import nltk\n",
        "from nltk.corpus import stopwords\n",
        "from nltk import word_tokenize\n",
        "from nltk.stem import WordNetLemmatizer, PorterStemmer\n",
        "from sklearn.feature_extraction.text import TfidfVectorizer\n",
        "from sklearn.metrics.pairwise import cosine_similarity"
      ]
    },
    {
      "cell_type": "code",
      "source": [
        "nltk.download('punkt')\n",
        "nltk.download('stopwords')"
      ],
      "metadata": {
        "colab": {
          "base_uri": "https://localhost:8080/"
        },
        "id": "paZ6GTmFYQ1s",
        "outputId": "af3aa1c0-9a69-4109-f30e-2775c438df6a"
      },
      "execution_count": 32,
      "outputs": [
        {
          "output_type": "stream",
          "name": "stderr",
          "text": [
            "[nltk_data] Downloading package punkt to /root/nltk_data...\n",
            "[nltk_data]   Package punkt is already up-to-date!\n",
            "[nltk_data] Downloading package stopwords to /root/nltk_data...\n",
            "[nltk_data]   Package stopwords is already up-to-date!\n"
          ]
        },
        {
          "output_type": "execute_result",
          "data": {
            "text/plain": [
              "True"
            ]
          },
          "metadata": {},
          "execution_count": 32
        }
      ]
    },
    {
      "cell_type": "code",
      "source": [
        "# https://www.kaggle.com/shivamkushwaha/bbc-full-text-document-classification\n",
        "!wget -nc https://lazyprogrammer.me/course_files/nlp/bbc_text_cls.csv"
      ],
      "metadata": {
        "colab": {
          "base_uri": "https://localhost:8080/"
        },
        "id": "RXses8UlYaP4",
        "outputId": "8a6f4c62-9573-4f16-d1f7-966378998932"
      },
      "execution_count": 33,
      "outputs": [
        {
          "output_type": "stream",
          "name": "stdout",
          "text": [
            "File ‘bbc_text_cls.csv’ already there; not retrieving.\n",
            "\n"
          ]
        }
      ]
    },
    {
      "cell_type": "code",
      "source": [
        "# load data\n",
        "df = pd.read_csv('bbc_text_cls.csv')"
      ],
      "metadata": {
        "id": "-xFH-cBFYcGw"
      },
      "execution_count": 34,
      "outputs": []
    },
    {
      "cell_type": "code",
      "source": [
        "df.head()"
      ],
      "metadata": {
        "colab": {
          "base_uri": "https://localhost:8080/",
          "height": 204
        },
        "id": "iPy-_e63Yjyc",
        "outputId": "d549f4b6-6e87-41bf-a274-217934556fe2"
      },
      "execution_count": 35,
      "outputs": [
        {
          "output_type": "execute_result",
          "data": {
            "text/plain": [
              "                                                text    labels\n",
              "0  Ad sales boost Time Warner profit\\n\\nQuarterly...  business\n",
              "1  Dollar gains on Greenspan speech\\n\\nThe dollar...  business\n",
              "2  Yukos unit buyer faces loan claim\\n\\nThe owner...  business\n",
              "3  High fuel prices hit BA's profits\\n\\nBritish A...  business\n",
              "4  Pernod takeover talk lifts Domecq\\n\\nShares in...  business"
            ],
            "text/html": [
              "\n",
              "  <div id=\"df-333bff66-db4f-4261-99d2-897209d94611\" class=\"colab-df-container\">\n",
              "    <div>\n",
              "<style scoped>\n",
              "    .dataframe tbody tr th:only-of-type {\n",
              "        vertical-align: middle;\n",
              "    }\n",
              "\n",
              "    .dataframe tbody tr th {\n",
              "        vertical-align: top;\n",
              "    }\n",
              "\n",
              "    .dataframe thead th {\n",
              "        text-align: right;\n",
              "    }\n",
              "</style>\n",
              "<table border=\"1\" class=\"dataframe\">\n",
              "  <thead>\n",
              "    <tr style=\"text-align: right;\">\n",
              "      <th></th>\n",
              "      <th>text</th>\n",
              "      <th>labels</th>\n",
              "    </tr>\n",
              "  </thead>\n",
              "  <tbody>\n",
              "    <tr>\n",
              "      <th>0</th>\n",
              "      <td>Ad sales boost Time Warner profit\\n\\nQuarterly...</td>\n",
              "      <td>business</td>\n",
              "    </tr>\n",
              "    <tr>\n",
              "      <th>1</th>\n",
              "      <td>Dollar gains on Greenspan speech\\n\\nThe dollar...</td>\n",
              "      <td>business</td>\n",
              "    </tr>\n",
              "    <tr>\n",
              "      <th>2</th>\n",
              "      <td>Yukos unit buyer faces loan claim\\n\\nThe owner...</td>\n",
              "      <td>business</td>\n",
              "    </tr>\n",
              "    <tr>\n",
              "      <th>3</th>\n",
              "      <td>High fuel prices hit BA's profits\\n\\nBritish A...</td>\n",
              "      <td>business</td>\n",
              "    </tr>\n",
              "    <tr>\n",
              "      <th>4</th>\n",
              "      <td>Pernod takeover talk lifts Domecq\\n\\nShares in...</td>\n",
              "      <td>business</td>\n",
              "    </tr>\n",
              "  </tbody>\n",
              "</table>\n",
              "</div>\n",
              "    <div class=\"colab-df-buttons\">\n",
              "\n",
              "  <div class=\"colab-df-container\">\n",
              "    <button class=\"colab-df-convert\" onclick=\"convertToInteractive('df-333bff66-db4f-4261-99d2-897209d94611')\"\n",
              "            title=\"Convert this dataframe to an interactive table.\"\n",
              "            style=\"display:none;\">\n",
              "\n",
              "  <svg xmlns=\"http://www.w3.org/2000/svg\" height=\"24px\" viewBox=\"0 -960 960 960\">\n",
              "    <path d=\"M120-120v-720h720v720H120Zm60-500h600v-160H180v160Zm220 220h160v-160H400v160Zm0 220h160v-160H400v160ZM180-400h160v-160H180v160Zm440 0h160v-160H620v160ZM180-180h160v-160H180v160Zm440 0h160v-160H620v160Z\"/>\n",
              "  </svg>\n",
              "    </button>\n",
              "\n",
              "  <style>\n",
              "    .colab-df-container {\n",
              "      display:flex;\n",
              "      gap: 12px;\n",
              "    }\n",
              "\n",
              "    .colab-df-convert {\n",
              "      background-color: #E8F0FE;\n",
              "      border: none;\n",
              "      border-radius: 50%;\n",
              "      cursor: pointer;\n",
              "      display: none;\n",
              "      fill: #1967D2;\n",
              "      height: 32px;\n",
              "      padding: 0 0 0 0;\n",
              "      width: 32px;\n",
              "    }\n",
              "\n",
              "    .colab-df-convert:hover {\n",
              "      background-color: #E2EBFA;\n",
              "      box-shadow: 0px 1px 2px rgba(60, 64, 67, 0.3), 0px 1px 3px 1px rgba(60, 64, 67, 0.15);\n",
              "      fill: #174EA6;\n",
              "    }\n",
              "\n",
              "    .colab-df-buttons div {\n",
              "      margin-bottom: 4px;\n",
              "    }\n",
              "\n",
              "    [theme=dark] .colab-df-convert {\n",
              "      background-color: #3B4455;\n",
              "      fill: #D2E3FC;\n",
              "    }\n",
              "\n",
              "    [theme=dark] .colab-df-convert:hover {\n",
              "      background-color: #434B5C;\n",
              "      box-shadow: 0px 1px 3px 1px rgba(0, 0, 0, 0.15);\n",
              "      filter: drop-shadow(0px 1px 2px rgba(0, 0, 0, 0.3));\n",
              "      fill: #FFFFFF;\n",
              "    }\n",
              "  </style>\n",
              "\n",
              "    <script>\n",
              "      const buttonEl =\n",
              "        document.querySelector('#df-333bff66-db4f-4261-99d2-897209d94611 button.colab-df-convert');\n",
              "      buttonEl.style.display =\n",
              "        google.colab.kernel.accessAllowed ? 'block' : 'none';\n",
              "\n",
              "      async function convertToInteractive(key) {\n",
              "        const element = document.querySelector('#df-333bff66-db4f-4261-99d2-897209d94611');\n",
              "        const dataTable =\n",
              "          await google.colab.kernel.invokeFunction('convertToInteractive',\n",
              "                                                    [key], {});\n",
              "        if (!dataTable) return;\n",
              "\n",
              "        const docLinkHtml = 'Like what you see? Visit the ' +\n",
              "          '<a target=\"_blank\" href=https://colab.research.google.com/notebooks/data_table.ipynb>data table notebook</a>'\n",
              "          + ' to learn more about interactive tables.';\n",
              "        element.innerHTML = '';\n",
              "        dataTable['output_type'] = 'display_data';\n",
              "        await google.colab.output.renderOutput(dataTable, element);\n",
              "        const docLink = document.createElement('div');\n",
              "        docLink.innerHTML = docLinkHtml;\n",
              "        element.appendChild(docLink);\n",
              "      }\n",
              "    </script>\n",
              "  </div>\n",
              "\n",
              "\n",
              "<div id=\"df-2cc7d4ac-f882-4d61-96d0-fa9ca8ffbc3a\">\n",
              "  <button class=\"colab-df-quickchart\" onclick=\"quickchart('df-2cc7d4ac-f882-4d61-96d0-fa9ca8ffbc3a')\"\n",
              "            title=\"Suggest charts\"\n",
              "            style=\"display:none;\">\n",
              "\n",
              "<svg xmlns=\"http://www.w3.org/2000/svg\" height=\"24px\"viewBox=\"0 0 24 24\"\n",
              "     width=\"24px\">\n",
              "    <g>\n",
              "        <path d=\"M19 3H5c-1.1 0-2 .9-2 2v14c0 1.1.9 2 2 2h14c1.1 0 2-.9 2-2V5c0-1.1-.9-2-2-2zM9 17H7v-7h2v7zm4 0h-2V7h2v10zm4 0h-2v-4h2v4z\"/>\n",
              "    </g>\n",
              "</svg>\n",
              "  </button>\n",
              "\n",
              "<style>\n",
              "  .colab-df-quickchart {\n",
              "      --bg-color: #E8F0FE;\n",
              "      --fill-color: #1967D2;\n",
              "      --hover-bg-color: #E2EBFA;\n",
              "      --hover-fill-color: #174EA6;\n",
              "      --disabled-fill-color: #AAA;\n",
              "      --disabled-bg-color: #DDD;\n",
              "  }\n",
              "\n",
              "  [theme=dark] .colab-df-quickchart {\n",
              "      --bg-color: #3B4455;\n",
              "      --fill-color: #D2E3FC;\n",
              "      --hover-bg-color: #434B5C;\n",
              "      --hover-fill-color: #FFFFFF;\n",
              "      --disabled-bg-color: #3B4455;\n",
              "      --disabled-fill-color: #666;\n",
              "  }\n",
              "\n",
              "  .colab-df-quickchart {\n",
              "    background-color: var(--bg-color);\n",
              "    border: none;\n",
              "    border-radius: 50%;\n",
              "    cursor: pointer;\n",
              "    display: none;\n",
              "    fill: var(--fill-color);\n",
              "    height: 32px;\n",
              "    padding: 0;\n",
              "    width: 32px;\n",
              "  }\n",
              "\n",
              "  .colab-df-quickchart:hover {\n",
              "    background-color: var(--hover-bg-color);\n",
              "    box-shadow: 0 1px 2px rgba(60, 64, 67, 0.3), 0 1px 3px 1px rgba(60, 64, 67, 0.15);\n",
              "    fill: var(--button-hover-fill-color);\n",
              "  }\n",
              "\n",
              "  .colab-df-quickchart-complete:disabled,\n",
              "  .colab-df-quickchart-complete:disabled:hover {\n",
              "    background-color: var(--disabled-bg-color);\n",
              "    fill: var(--disabled-fill-color);\n",
              "    box-shadow: none;\n",
              "  }\n",
              "\n",
              "  .colab-df-spinner {\n",
              "    border: 2px solid var(--fill-color);\n",
              "    border-color: transparent;\n",
              "    border-bottom-color: var(--fill-color);\n",
              "    animation:\n",
              "      spin 1s steps(1) infinite;\n",
              "  }\n",
              "\n",
              "  @keyframes spin {\n",
              "    0% {\n",
              "      border-color: transparent;\n",
              "      border-bottom-color: var(--fill-color);\n",
              "      border-left-color: var(--fill-color);\n",
              "    }\n",
              "    20% {\n",
              "      border-color: transparent;\n",
              "      border-left-color: var(--fill-color);\n",
              "      border-top-color: var(--fill-color);\n",
              "    }\n",
              "    30% {\n",
              "      border-color: transparent;\n",
              "      border-left-color: var(--fill-color);\n",
              "      border-top-color: var(--fill-color);\n",
              "      border-right-color: var(--fill-color);\n",
              "    }\n",
              "    40% {\n",
              "      border-color: transparent;\n",
              "      border-right-color: var(--fill-color);\n",
              "      border-top-color: var(--fill-color);\n",
              "    }\n",
              "    60% {\n",
              "      border-color: transparent;\n",
              "      border-right-color: var(--fill-color);\n",
              "    }\n",
              "    80% {\n",
              "      border-color: transparent;\n",
              "      border-right-color: var(--fill-color);\n",
              "      border-bottom-color: var(--fill-color);\n",
              "    }\n",
              "    90% {\n",
              "      border-color: transparent;\n",
              "      border-bottom-color: var(--fill-color);\n",
              "    }\n",
              "  }\n",
              "</style>\n",
              "\n",
              "  <script>\n",
              "    async function quickchart(key) {\n",
              "      const quickchartButtonEl =\n",
              "        document.querySelector('#' + key + ' button');\n",
              "      quickchartButtonEl.disabled = true;  // To prevent multiple clicks.\n",
              "      quickchartButtonEl.classList.add('colab-df-spinner');\n",
              "      try {\n",
              "        const charts = await google.colab.kernel.invokeFunction(\n",
              "            'suggestCharts', [key], {});\n",
              "      } catch (error) {\n",
              "        console.error('Error during call to suggestCharts:', error);\n",
              "      }\n",
              "      quickchartButtonEl.classList.remove('colab-df-spinner');\n",
              "      quickchartButtonEl.classList.add('colab-df-quickchart-complete');\n",
              "    }\n",
              "    (() => {\n",
              "      let quickchartButtonEl =\n",
              "        document.querySelector('#df-2cc7d4ac-f882-4d61-96d0-fa9ca8ffbc3a button');\n",
              "      quickchartButtonEl.style.display =\n",
              "        google.colab.kernel.accessAllowed ? 'block' : 'none';\n",
              "    })();\n",
              "  </script>\n",
              "</div>\n",
              "\n",
              "    </div>\n",
              "  </div>\n"
            ],
            "application/vnd.google.colaboratory.intrinsic+json": {
              "type": "dataframe",
              "variable_name": "df",
              "summary": "{\n  \"name\": \"df\",\n  \"rows\": 2225,\n  \"fields\": [\n    {\n      \"column\": \"text\",\n      \"properties\": {\n        \"dtype\": \"string\",\n        \"num_unique_values\": 2127,\n        \"samples\": [\n          \"EU 'too slow' on economic reforms\\n\\nMost EU countries have failed to put in place policies aimed at making Europe the world's most competitive economy by the end of the decade, a report says.\\n\\nThe study, undertaken by the European Commission, sought to assess how far the EU has moved towards meeting its economic targets. In 2000, EU leaders at a summit in Lisbon pledged the European economy would outstrip that of the US by 2010. Their economic targets became known as the Lisbon Agenda. But the Commission report says that, in most EU countries, the pace of economic reform has been too slow, and fulfilling the Lisbon ambitions will be difficult - if not impossible.\\n\\nOnly the UK, Finland, Belgium, Denmark, Ireland and the Netherlands have actually followed up policy recommendations. Among the biggest laggards, according to the report, are Greece and Italy. The Lisbon Agenda set out to increase the number of people employed in Europe by encouraging more older people and women to stay in the workforce. It also set out to raise the amount the private sector spends on research and development, while bringing about greater discipline over public spending and debt levels. Combined with high environmental standards and efforts to level the playing field for businesses throughout the EU, the plan was for Europe to become the world's most dynamic economy by 2010. Next week, the Commission will present revised proposals to meet the Lisbon goals. Many people expect the 2010 target to be quietly dropped.\",\n          \"BBC web search aids odd queries\\n\\nThe BBC's online search engine was used a record amount in 2004, helping with enquires both simple and strange.\\n\\nMore than 277 million enquiries were made, asking for informaton of a wide range of subjects. The most requested search terms of 2004 included games, EastEnders, CBBC, John Peel, Harry Potter and Olympics. But there were many strange enquiries, including: what is a dog?, how do you say basketball? and what is the biggest collection of naval fluff? The search engine works by matching key words typed in to different web pages but many people still type in natural language questions. Here are some of the strangest queries of 2004 - spelling and grammar errors left untouched - and their possible solutions:\\n\\n\\n - How to fold a serviette like an elf's boot? \\n \\n\\n\\n - How do I structure a French letter? \\n \\n\\n\\n - What is better one long vacation each year or several short vacations throughout the year? \\n \\n\\n\\n - What is so special about the Swiss? \\n \\n\\n\\n - What are the contemporary issue in nurses? \\n \\n\\n\\n - What is the number 4 in this number 40052308090? \\n \\n\\n\\n - What is up? \\n \\n\\n\\n - What is the name of James Martin's dog? \\n \\n\\nSearch engines are key to the way people use the internet. Companies such as Google have become of paramount importance as they dictate how people travel through websites while online.\",\n          \"Serena becomes world number two\\n\\nSerena Williams has moved up five places to second in the world rankings after her Australian Open win.\\n\\nWilliams won her first Grand Slam title since 2003 with victory over Lindsay Davenport, the world number one. Men's champion Marat Safin remains fourth in the ATP rankings while beaten finalist Lleyton Hewitt replaces Andy Roddick as world number two. Roger Federer retains top spot, but Safin has overtaken Hewitt to become the new leader of the Champions Race. Alicia Molik, who lost a three-set thriller against Davenport in the quarter-finals, is in the women's top 10 for the first time in her career. Her rise means Australia have a player in the top 10 of the men's and women's rankings for the first time in 21 years. And Britain's Elena Baltacha, who qualified and then reached the third round, has risen to 120 in the world - a leap of 65 places and her highest ranking yet.\"\n        ],\n        \"semantic_type\": \"\",\n        \"description\": \"\"\n      }\n    },\n    {\n      \"column\": \"labels\",\n      \"properties\": {\n        \"dtype\": \"category\",\n        \"num_unique_values\": 5,\n        \"samples\": [\n          \"entertainment\",\n          \"tech\",\n          \"politics\"\n        ],\n        \"semantic_type\": \"\",\n        \"description\": \"\"\n      }\n    }\n  ]\n}"
            }
          },
          "metadata": {},
          "execution_count": 35
        }
      ]
    },
    {
      "cell_type": "code",
      "source": [
        "# choose a random document\n",
        "\n",
        "doc = df[df.labels == 'business']['text'].sample(random_state=42)"
      ],
      "metadata": {
        "id": "_vrTXsgMYuzp"
      },
      "execution_count": 36,
      "outputs": []
    },
    {
      "cell_type": "code",
      "source": [
        "# wrap function, which helps us print the results more nicely\n",
        "\n",
        "def wrap(x):\n",
        "  return textwrap.fill(x, replace_whitespace=False, fix_sentence_endings=True)"
      ],
      "metadata": {
        "id": "6EHNe0lgY4_v"
      },
      "execution_count": 37,
      "outputs": []
    },
    {
      "cell_type": "code",
      "source": [
        "print(wrap(doc.iloc[0]))"
      ],
      "metadata": {
        "colab": {
          "base_uri": "https://localhost:8080/"
        },
        "id": "s7wo2uQQZFqD",
        "outputId": "38f37604-224c-4050-d9b4-beda02259786"
      },
      "execution_count": 38,
      "outputs": [
        {
          "output_type": "stream",
          "name": "stdout",
          "text": [
            "Christmas sales worst since 1981\n",
            "\n",
            "UK retail sales fell in December,\n",
            "failing to meet expectations and making it by some counts the worst\n",
            "Christmas since 1981.\n",
            "\n",
            "Retail sales dropped by 1% on the month in\n",
            "December, after a 0.6% rise in November, the Office for National\n",
            "Statistics (ONS) said.  The ONS revised the annual 2004 rate of growth\n",
            "down from the 5.9% estimated in November to 3.2%. A number of\n",
            "retailers have already reported poor figures for December.  Clothing\n",
            "retailers and non-specialist stores were the worst hit with only\n",
            "internet retailers showing any significant growth, according to the\n",
            "ONS.\n",
            "\n",
            "The last time retailers endured a tougher Christmas was 23 years\n",
            "previously, when sales plunged 1.7%.\n",
            "\n",
            "The ONS echoed an earlier\n",
            "caution from Bank of England governor Mervyn King not to read too much\n",
            "into the poor December figures.  Some analysts put a positive gloss on\n",
            "the figures, pointing out that the non-seasonally-adjusted figures\n",
            "showed a performance comparable with 2003. The November-December jump\n",
            "last year was roughly comparable with recent averages, although some\n",
            "way below the serious booms seen in the 1990s.  And figures for retail\n",
            "volume outperformed measures of actual spending, an indication that\n",
            "consumers are looking for bargains, and retailers are cutting their\n",
            "prices.\n",
            "\n",
            "However, reports from some High Street retailers highlight\n",
            "the weakness of the sector.  Morrisons, Woolworths, House of Fraser,\n",
            "Marks & Spencer and Big Food all said that the festive period was\n",
            "disappointing.\n",
            "\n",
            "And a British Retail Consortium survey found that\n",
            "Christmas 2004 was the worst for 10 years.  Yet, other retailers -\n",
            "including HMV, Monsoon, Jessops, Body Shop and Tesco - reported that\n",
            "festive sales were well up on last year.  Investec chief economist\n",
            "Philip Shaw said he did not expect the poor retail figures to have any\n",
            "immediate effect on interest rates.  \"The retail sales figures are\n",
            "very weak, but as Bank of England governor Mervyn King indicated last\n",
            "night, you don't really get an accurate impression of Christmas\n",
            "trading until about Easter,\" said Mr Shaw.  \"Our view is the Bank of\n",
            "England will keep its powder dry and wait to see the big picture.\"\n"
          ]
        }
      ]
    },
    {
      "cell_type": "code",
      "source": [
        "# tokenize document into sentences\n",
        "# doc.iloc[0] ==> which give us the document as string\n",
        "# .split(\"\\n\", 1) ==> split function to split on new lines, but we only want to split one, since we only want to remove the title\n",
        "# [1] ==> [title, text] ==> we choose the value at index one\n",
        "\n",
        "sents = nltk.sent_tokenize(doc.iloc[0].split(\"\\n\", 1)[1])"
      ],
      "metadata": {
        "id": "Y9y9d1ISZTqh"
      },
      "execution_count": 39,
      "outputs": []
    },
    {
      "cell_type": "code",
      "source": [
        "# create TF-IDF vectorizer, we're using english stopwords and L1 normalization\n",
        "\n",
        "featurizer = TfidfVectorizer(\n",
        "    stop_words=stopwords.words('english'),\n",
        "    norm='l1',\n",
        ")"
      ],
      "metadata": {
        "id": "rY2sn3JUaNBJ"
      },
      "execution_count": 40,
      "outputs": []
    },
    {
      "cell_type": "code",
      "source": [
        "# call function fit_transform, which gives us TF-IDF matrix\n",
        "\n",
        "X = featurizer.fit_transform(sents)"
      ],
      "metadata": {
        "id": "ezy03eO7am55"
      },
      "execution_count": 41,
      "outputs": []
    },
    {
      "cell_type": "code",
      "source": [
        "# compute similarity matrix\n",
        "# note : https://docs.google.com/document/d/1dOjFnL4bcBjgtZ6p9E8wdbeySsGjjS4U/edit?usp=share_link&ouid=117635670089266886030&rtpof=true&sd=true\n",
        "S = cosine_similarity(X)"
      ],
      "metadata": {
        "id": "4yVsXyEYBopu"
      },
      "execution_count": 42,
      "outputs": []
    },
    {
      "cell_type": "code",
      "source": [
        "# sanity check, we're going to check the shape of S, if did this correctly, this should be a relatively small matrix since the number of sentence is small.\n",
        "S.shape\n",
        "\n",
        "# furthermore, this implies that we have 17 sentences"
      ],
      "metadata": {
        "colab": {
          "base_uri": "https://localhost:8080/"
        },
        "id": "JXFpUTeT0Q4l",
        "outputId": "eec48b57-d440-4b6e-c83f-2ff435fae893"
      },
      "execution_count": 43,
      "outputs": [
        {
          "output_type": "execute_result",
          "data": {
            "text/plain": [
              "(17, 17)"
            ]
          },
          "metadata": {},
          "execution_count": 43
        }
      ]
    },
    {
      "cell_type": "code",
      "source": [
        "# length of sentences list\n",
        "len(sents)"
      ],
      "metadata": {
        "colab": {
          "base_uri": "https://localhost:8080/"
        },
        "id": "qzs8bNDl1V2Y",
        "outputId": "39b89dd0-a79b-472a-c35c-a2a74f80ab3c"
      },
      "execution_count": 44,
      "outputs": [
        {
          "output_type": "execute_result",
          "data": {
            "text/plain": [
              "17"
            ]
          },
          "metadata": {},
          "execution_count": 44
        }
      ]
    },
    {
      "cell_type": "code",
      "source": [
        "# normalize similarity matrix\n",
        "# note : https://docs.google.com/document/d/1lqWzSY_0pbp0D1i4RPBApV5OH_nC_KKr/edit?usp=share_link&ouid=117635670089266886030&rtpof=true&sd=true\n",
        "S /= S.sum(axis=1, keepdims=True)"
      ],
      "metadata": {
        "id": "QPhz14M849Ia"
      },
      "execution_count": 45,
      "outputs": []
    },
    {
      "cell_type": "code",
      "source": [
        "# check the sum of the first row of matrix, as a sanity check\n",
        "S[0].sum()\n",
        "\n",
        "# and it seems to 1 as expected"
      ],
      "metadata": {
        "colab": {
          "base_uri": "https://localhost:8080/"
        },
        "id": "v9-oj2bz5WOz",
        "outputId": "0b981c93-ee19-4656-a008-301789b8a5ef"
      },
      "execution_count": 46,
      "outputs": [
        {
          "output_type": "execute_result",
          "data": {
            "text/plain": [
              "1.0"
            ]
          },
          "metadata": {},
          "execution_count": 46
        }
      ]
    },
    {
      "cell_type": "code",
      "source": [
        "# uniform transition matrix\n",
        "# note : https://docs.google.com/document/d/1_v6ad-lpW9Wkg4ewsXEJIILVttgV8HpY/edit?usp=share_link&ouid=117635670089266886030&rtpof=true&sd=true\n",
        "U = np.ones_like(S) / len(S)"
      ],
      "metadata": {
        "id": "EGD84Y9M50Xq"
      },
      "execution_count": 47,
      "outputs": []
    },
    {
      "cell_type": "code",
      "source": [
        "# check the sum of the first row of matrix, as a sanity check\n",
        "U[0].sum()\n",
        "\n",
        "# and it seems to 1 as expected"
      ],
      "metadata": {
        "colab": {
          "base_uri": "https://localhost:8080/"
        },
        "id": "v103wurq8gAa",
        "outputId": "bc03d38c-3625-4619-9188-059d0b2b07f1"
      },
      "execution_count": 48,
      "outputs": [
        {
          "output_type": "execute_result",
          "data": {
            "text/plain": [
              "1.0"
            ]
          },
          "metadata": {},
          "execution_count": 48
        }
      ]
    },
    {
      "cell_type": "code",
      "source": [
        "# smoothed similarity matrix\n",
        "# note : https://docs.google.com/document/d/1gd8fyHqu-h6Fx5SGrTjvMt1yIfNYgtxe/edit?usp=share_link&ouid=117635670089266886030&rtpof=true&sd=true\n",
        "factor = 0.15\n",
        "S = (1 - factor) * S + factor * U"
      ],
      "metadata": {
        "id": "ndGM78GR8krM"
      },
      "execution_count": 49,
      "outputs": []
    },
    {
      "cell_type": "code",
      "source": [
        "# double check that the first row of the result still sums to 1\n",
        "S[0].sum()"
      ],
      "metadata": {
        "colab": {
          "base_uri": "https://localhost:8080/"
        },
        "id": "RoxoGpFmBeaE",
        "outputId": "0002cb50-a719-4f0a-89d8-42b57f7569f2"
      },
      "execution_count": 50,
      "outputs": [
        {
          "output_type": "execute_result",
          "data": {
            "text/plain": [
              "1.0"
            ]
          },
          "metadata": {},
          "execution_count": 50
        }
      ]
    },
    {
      "cell_type": "code",
      "source": [
        "# find the limiting / stationary distribution\n",
        "# note : https://docs.google.com/document/d/1mg-LbNKRXtUrei6rcwBM608_0b-akTia/edit?usp=share_link&ouid=117635670089266886030&rtpof=true&sd=true\n",
        "eigenvals, eigenvecs = np.linalg.eig(S.T)\n"
      ],
      "metadata": {
        "id": "c2XM6JwHTDWR"
      },
      "execution_count": 51,
      "outputs": []
    },
    {
      "cell_type": "code",
      "source": [
        "# check the eigenvalues,\n",
        "# the theory states that, one of these eigenvalues should be one\n",
        "eigenvals\n",
        "\n",
        "# as you can see, the first eigenvalues is indeed one."
      ],
      "metadata": {
        "colab": {
          "base_uri": "https://localhost:8080/"
        },
        "id": "HuecG_teTdip",
        "outputId": "e03344f1-e101-4ee8-9ab8-e9c8169ed19f"
      },
      "execution_count": 52,
      "outputs": [
        {
          "output_type": "execute_result",
          "data": {
            "text/plain": [
              "array([1.        , 0.24245466, 0.72108199, 0.67644122, 0.34790129,\n",
              "       0.34417302, 0.3866884 , 0.40333562, 0.41608572, 0.44238593,\n",
              "       0.63909999, 0.62556792, 0.58922572, 0.57452382, 0.48511399,\n",
              "       0.51329157, 0.52975372])"
            ]
          },
          "metadata": {},
          "execution_count": 52
        }
      ]
    },
    {
      "cell_type": "code",
      "source": [
        "# check the corresponding eigenvectors\n",
        "# note : https://docs.google.com/document/d/1KrKEN6qRYCMRdkbSu80O-S4oWKT1cXJM/edit?usp=share_link&ouid=117635670089266886030&rtpof=true&sd=true\n",
        "eigenvecs[:,0]"
      ],
      "metadata": {
        "colab": {
          "base_uri": "https://localhost:8080/"
        },
        "id": "nZaogH6ZUB-I",
        "outputId": "642298e5-8551-45a8-9a54-7ffc3e550f18"
      },
      "execution_count": 53,
      "outputs": [
        {
          "output_type": "execute_result",
          "data": {
            "text/plain": [
              "array([-0.24206557, -0.27051337, -0.2213806 , -0.28613638, -0.25065894,\n",
              "       -0.2499217 , -0.279622  , -0.21515455, -0.2226665 , -0.22745415,\n",
              "       -0.2059112 , -0.20959727, -0.23526242, -0.24203809, -0.23663025,\n",
              "       -0.2940483 , -0.20865607])"
            ]
          },
          "metadata": {},
          "execution_count": 53
        }
      ]
    },
    {
      "cell_type": "code",
      "source": [
        "# note : https://docs.google.com/document/d/1yCUMQhc8x4Qi0aJTCx5MOuLZbkxaC_7R/edit?usp=share_link&ouid=117635670089266886030&rtpof=true&sd=true\n",
        "eigenvecs[:,0].dot(S)"
      ],
      "metadata": {
        "colab": {
          "base_uri": "https://localhost:8080/"
        },
        "id": "68pghXeskqyz",
        "outputId": "80a3f1cf-4a6e-45e9-d175-8209988168b3"
      },
      "execution_count": 54,
      "outputs": [
        {
          "output_type": "execute_result",
          "data": {
            "text/plain": [
              "array([-0.24206557, -0.27051337, -0.2213806 , -0.28613638, -0.25065894,\n",
              "       -0.2499217 , -0.279622  , -0.21515455, -0.2226665 , -0.22745415,\n",
              "       -0.2059112 , -0.20959727, -0.23526242, -0.24203809, -0.23663025,\n",
              "       -0.2940483 , -0.20865607])"
            ]
          },
          "metadata": {},
          "execution_count": 54
        }
      ]
    },
    {
      "cell_type": "code",
      "source": [
        "# note : https://docs.google.com/document/d/1dl6id89ZIuIp2m8HxPppllQNKFpdO39d/edit?usp=share_link&ouid=117635670089266886030&rtpof=true&sd=true\n",
        "eigenvecs[:,0] / eigenvecs[:,0].sum()"
      ],
      "metadata": {
        "colab": {
          "base_uri": "https://localhost:8080/"
        },
        "id": "-fhDBQ6Rk1Lv",
        "outputId": "34276e66-6bb2-49e1-b771-adf3673f2785"
      },
      "execution_count": 55,
      "outputs": [
        {
          "output_type": "execute_result",
          "data": {
            "text/plain": [
              "array([0.05907327, 0.06601563, 0.05402535, 0.06982824, 0.06117038,\n",
              "       0.06099047, 0.06823848, 0.05250595, 0.05433915, 0.05550753,\n",
              "       0.05025022, 0.05114976, 0.05741304, 0.05906657, 0.05774684,\n",
              "       0.07175905, 0.05092007])"
            ]
          },
          "metadata": {},
          "execution_count": 55
        }
      ]
    },
    {
      "cell_type": "code",
      "source": [
        "# note : https://docs.google.com/document/d/1HzDdVFGanlTaSYwwAaqLvIENLr59oF-U/edit?usp=share_link&ouid=117635670089266886030&rtpof=true&sd=true\n",
        "limiting_dist = np.ones(len(S)) / len(S)\n",
        "threshold = 1e-8\n",
        "delta = float('inf')\n",
        "iters = 0\n",
        "while delta > threshold:\n",
        "  iters += 1\n",
        "\n",
        "  # Markov transition\n",
        "  p = limiting_dist.dot(S)\n",
        "\n",
        "  # compute change in limiting distribution\n",
        "  delta = np.abs(p - limiting_dist).sum()\n",
        "\n",
        "  # update limiting distribution\n",
        "  limiting_dist = p\n",
        "\n",
        "print(iters)\n",
        "# this only took 41 steps."
      ],
      "metadata": {
        "colab": {
          "base_uri": "https://localhost:8080/"
        },
        "id": "NtEqEdLSzBCq",
        "outputId": "09a98b9e-ec5a-479c-87a4-7ad910223ef0"
      },
      "execution_count": 56,
      "outputs": [
        {
          "output_type": "stream",
          "name": "stdout",
          "text": [
            "41\n"
          ]
        }
      ]
    },
    {
      "cell_type": "code",
      "source": [
        "# print limiting distribution\n",
        "limiting_dist"
      ],
      "metadata": {
        "colab": {
          "base_uri": "https://localhost:8080/"
        },
        "id": "J3EC9VLX9N12",
        "outputId": "42244021-215f-470b-e014-769d78b42155"
      },
      "execution_count": 57,
      "outputs": [
        {
          "output_type": "execute_result",
          "data": {
            "text/plain": [
              "array([0.05907327, 0.06601563, 0.05402534, 0.06982824, 0.06117038,\n",
              "       0.06099047, 0.06823848, 0.05250595, 0.05433915, 0.05550753,\n",
              "       0.05025022, 0.05114977, 0.05741304, 0.05906657, 0.05774685,\n",
              "       0.07175905, 0.05092008])"
            ]
          },
          "metadata": {},
          "execution_count": 57
        }
      ]
    },
    {
      "cell_type": "code",
      "source": [
        "# check sum of the values\n",
        "limiting_dist.sum()\n",
        "\n",
        "# as you can see, the distribution of sum to one"
      ],
      "metadata": {
        "colab": {
          "base_uri": "https://localhost:8080/"
        },
        "id": "htKkJwed9ZiB",
        "outputId": "f5724cbd-3d05-4d2e-82d2-d2e019e01e88"
      },
      "execution_count": 58,
      "outputs": [
        {
          "output_type": "execute_result",
          "data": {
            "text/plain": [
              "0.9999999999999982"
            ]
          },
          "metadata": {},
          "execution_count": 58
        }
      ]
    },
    {
      "cell_type": "code",
      "source": [
        "# compute the sum of absolute differences between the answer we got before and the answer we got by brute force.\n",
        "np.abs(eigenvecs[:,0] / eigenvecs[:,0].sum() - limiting_dist).sum()"
      ],
      "metadata": {
        "colab": {
          "base_uri": "https://localhost:8080/"
        },
        "id": "iWA1TIFs9u_w",
        "outputId": "229afb7c-17ac-4340-e29c-5ada34921f1c"
      },
      "execution_count": 59,
      "outputs": [
        {
          "output_type": "execute_result",
          "data": {
            "text/plain": [
              "1.9964738834366003e-08"
            ]
          },
          "metadata": {},
          "execution_count": 59
        }
      ]
    },
    {
      "cell_type": "code",
      "source": [
        "# set our score to the limiting distribution\n",
        "# as you recall, this distribution actually to the TextRank score, which we will then use to find the top sentences in our document\n",
        "scores = limiting_dist"
      ],
      "metadata": {
        "id": "jIn8u__1-Iqb"
      },
      "execution_count": 30,
      "outputs": []
    },
    {
      "cell_type": "code",
      "source": [
        "# find the sort index for the score\n",
        "sort_idx = np.argsort(-scores)"
      ],
      "metadata": {
        "id": "xxsi8-fY-k7R"
      },
      "execution_count": 60,
      "outputs": []
    },
    {
      "cell_type": "code",
      "source": [
        "# Many options for how to choose which sentences to include:\n",
        "\n",
        "# 1) top N sentences\n",
        "# 2) top N words or characters.\n",
        "# 3) top X% sentences or top X% words\n",
        "# 4) sentences with scores > average score\n",
        "# 5) sentences with scores > factor * average score\n",
        "\n",
        "# You also don't have to sort. May make more sense in order.\n",
        "\n",
        "print(\"Generated summary:\")\n",
        "for i in sort_idx[:5]:\n",
        "  print(wrap(\"%.2f: %s\" % (scores[i], sents[i])))"
      ],
      "metadata": {
        "colab": {
          "base_uri": "https://localhost:8080/"
        },
        "id": "gwn6Ruv5b88F",
        "outputId": "28de45c5-7b52-4e91-dcd0-5669a405ec92"
      },
      "execution_count": 61,
      "outputs": [
        {
          "output_type": "stream",
          "name": "stdout",
          "text": [
            "Generated summary:\n",
            "0.07: \"The retail sales figures are very weak, but as Bank of England\n",
            "governor Mervyn King indicated last night, you don't really get an\n",
            "accurate impression of Christmas trading until about Easter,\" said Mr\n",
            "Shaw.\n",
            "0.07: A number of retailers have already reported poor figures for\n",
            "December.\n",
            "0.07: The ONS echoed an earlier caution from Bank of England governor\n",
            "Mervyn King not to read too much into the poor December figures.\n",
            "0.07: Retail sales dropped by 1% on the month in December, after a\n",
            "0.6% rise in November, the Office for National Statistics (ONS) said.\n",
            "0.06: Clothing retailers and non-specialist stores were the worst hit\n",
            "with only internet retailers showing any significant growth, according\n",
            "to the ONS.\n"
          ]
        }
      ]
    },
    {
      "cell_type": "code",
      "source": [
        "# one way to check whether or not this is a good summary, is to compare it with the title which is itself kind of like a summary.\n",
        "# note that this is the same quote as before, except that we take the first element instead of the second which gives us the title.\n",
        "\n",
        "doc.iloc[0].split(\"\\n\", 1)[0]\n",
        "\n",
        "# now at this point, we should realize that whether or not our summary is good is really a subjevtive concept.\n",
        "# there is not really a concept of accuracy, since it's possible that many different summaries would be sufficient.\n",
        "# there are summaries which would obviously bad, but again, that's more of a subject of assessment."
      ],
      "metadata": {
        "colab": {
          "base_uri": "https://localhost:8080/",
          "height": 35
        },
        "id": "gW60oCOYcj2A",
        "outputId": "b2fbb722-ec15-4b74-9385-7eef9d216fa8"
      },
      "execution_count": 62,
      "outputs": [
        {
          "output_type": "execute_result",
          "data": {
            "text/plain": [
              "'Christmas sales worst since 1981'"
            ],
            "application/vnd.google.colaboratory.intrinsic+json": {
              "type": "string"
            }
          },
          "metadata": {},
          "execution_count": 62
        }
      ]
    },
    {
      "cell_type": "code",
      "source": [
        "def summarize(text, factor = 0.15):\n",
        "  # extract sentences\n",
        "  sents = nltk.sent_tokenize(text)\n",
        "\n",
        "  # perform tf-idf\n",
        "  featurizer = TfidfVectorizer(\n",
        "      stop_words=stopwords.words('english'),\n",
        "      norm='l1')\n",
        "  X = featurizer.fit_transform(sents)\n",
        "\n",
        "  # compute similarity matrix\n",
        "  S = cosine_similarity(X)\n",
        "\n",
        "  # normalize similarity matrix\n",
        "  S /= S.sum(axis=1, keepdims=True)\n",
        "\n",
        "  # uniform transition matrix\n",
        "  U = np.ones_like(S) / len(S)\n",
        "\n",
        "  # smoothed similarity matrix\n",
        "  S = (1 - factor) * S + factor * U\n",
        "\n",
        "  # find the limiting / stationary distribution\n",
        "  eigenvals, eigenvecs = np.linalg.eig(S.T)\n",
        "\n",
        "  # compute scores\n",
        "  scores = eigenvecs[:,0] / eigenvecs[:,0].sum()\n",
        "\n",
        "  # sort the scores\n",
        "  sort_idx = np.argsort(-scores)\n",
        "\n",
        "  # print summary\n",
        "  for i in sort_idx[:5]:\n",
        "    print(wrap(\"%.2f: %s\" % (scores[i], sents[i])))"
      ],
      "metadata": {
        "id": "URiEWC7keYqI"
      },
      "execution_count": 64,
      "outputs": []
    },
    {
      "cell_type": "code",
      "source": [
        "# test our function on a random document\n",
        "# this time i've chosen from the entertainment class\n",
        "\n",
        "doc = df[df.labels == 'entertainment']['text'].sample(random_state=123)\n",
        "summarize(doc.iloc[0].split(\"\\n\", 1)[1])"
      ],
      "metadata": {
        "colab": {
          "base_uri": "https://localhost:8080/"
        },
        "id": "lCgVb1Vze7NF",
        "outputId": "7942091f-82ba-4e81-f1b2-1a0db66eba4a"
      },
      "execution_count": 65,
      "outputs": [
        {
          "output_type": "stream",
          "name": "stdout",
          "text": [
            "0.11: Goodrem, Green Day and the Black Eyed Peas took home two awards\n",
            "each.\n",
            "0.10: As well as best female, Goodrem also took home the Pepsi Viewers\n",
            "Choice Award, whilst Green Day bagged the prize for best rock video\n",
            "for American Idiot.\n",
            "0.10: Other winners included Green Day, voted best group, and the\n",
            "Black Eyed Peas.\n",
            "0.10: The Black Eyed Peas won awards for best R 'n' B video and\n",
            "sexiest video, both for Hey Mama.\n",
            "0.10: Local singer and songwriter Missy Higgins took the title of\n",
            "breakthrough artist of the year, with Australian Idol winner Guy\n",
            "Sebastian taking the honours for best pop video.\n"
          ]
        }
      ]
    },
    {
      "cell_type": "code",
      "source": [
        "# print out the title of this document, which kind of like a reference summary for us to compare to\n",
        "\n",
        "doc.iloc[0].split(\"\\n\", 1)[0]"
      ],
      "metadata": {
        "colab": {
          "base_uri": "https://localhost:8080/",
          "height": 35
        },
        "id": "Da0D_zMwfVIv",
        "outputId": "53cd9d0e-f0b5-4550-d1f2-4e044cd74c86"
      },
      "execution_count": 66,
      "outputs": [
        {
          "output_type": "execute_result",
          "data": {
            "text/plain": [
              "'Goodrem wins top female MTV prize'"
            ],
            "application/vnd.google.colaboratory.intrinsic+json": {
              "type": "string"
            }
          },
          "metadata": {},
          "execution_count": 66
        }
      ]
    },
    {
      "cell_type": "code",
      "source": [
        "print(wrap(doc.iloc[0]))"
      ],
      "metadata": {
        "colab": {
          "base_uri": "https://localhost:8080/"
        },
        "id": "QBDU9AOpfX1c",
        "outputId": "9c6eb8c3-0bcf-4a2f-e1ff-0745e4ad12bc"
      },
      "execution_count": 67,
      "outputs": [
        {
          "output_type": "stream",
          "name": "stdout",
          "text": [
            "Goodrem wins top female MTV prize\n",
            "\n",
            "Pop singer Delta Goodrem has\n",
            "scooped one of the top individual prizes at the first Australian MTV\n",
            "Music Awards.\n",
            "\n",
            "The 21-year-old singer won the award for best female\n",
            "artist, with Australian Idol runner-up Shannon Noll taking the title\n",
            "of best male at the ceremony.  Goodrem, known in both Britain and\n",
            "Australia for her role as Nina Tucker in TV soap Neighbours, also\n",
            "performed a duet with boyfriend Brian McFadden.  Other winners\n",
            "included Green Day, voted best group, and the Black Eyed Peas.\n",
            "Goodrem, Green Day and the Black Eyed Peas took home two awards each.\n",
            "As well as best female, Goodrem also took home the Pepsi Viewers\n",
            "Choice Award, whilst Green Day bagged the prize for best rock video\n",
            "for American Idiot.  The Black Eyed Peas won awards for best R 'n' B\n",
            "video and sexiest video, both for Hey Mama.  Local singer and\n",
            "songwriter Missy Higgins took the title of breakthrough artist of the\n",
            "year, with Australian Idol winner Guy Sebastian taking the honours for\n",
            "best pop video.  The VH1 First Music Award went to Cher honouring her\n",
            "achievements within the music industry.  The ceremony was held at the\n",
            "Luna Park fairground in Sydney Harbour and was hosted by the Osbourne\n",
            "family.  Artists including Carmen Electra, Missy Higgins, Kelly\n",
            "Osbourne, Green Day, Ja Rule and Natalie Imbruglia gave live\n",
            "performances at the event.\n"
          ]
        }
      ]
    }
  ]
}